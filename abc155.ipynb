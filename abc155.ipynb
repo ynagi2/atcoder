{
  "nbformat": 4,
  "nbformat_minor": 0,
  "metadata": {
    "colab": {
      "name": "abc155.ipynb",
      "provenance": [],
      "collapsed_sections": []
    },
    "kernelspec": {
      "name": "python3",
      "display_name": "Python 3"
    }
  },
  "cells": [
    {
      "cell_type": "code",
      "metadata": {
        "id": "_XksxoE33Bpk",
        "colab_type": "code",
        "outputId": "f2b2fcd2-ad9d-49db-c599-779ba9398ec5",
        "colab": {
          "base_uri": "https://localhost:8080/",
          "height": 51
        }
      },
      "source": [
        "arr = list(map(int,input().split()))\n",
        "\n",
        "if (arr[0] == arr[1]) and (arr[0] != arr[2]):\n",
        "  print(\"Yes\")\n",
        "elif (arr[1] == arr[2]) and (arr[1] != arr[0]):\n",
        "  print(\"Yes\")\n",
        "elif (arr[2] == arr[0]) and (arr[2] != arr[1]):\n",
        "  print(\"Yes\")\n",
        "else:\n",
        "  print(\"No\")"
      ],
      "execution_count": 0,
      "outputs": [
        {
          "output_type": "stream",
          "text": [
            "3 3 4\n",
            "Yes\n"
          ],
          "name": "stdout"
        }
      ]
    },
    {
      "cell_type": "code",
      "metadata": {
        "id": "0s5-qSJk5Nd4",
        "colab_type": "code",
        "outputId": "7ba0a166-9dd2-438a-8016-270c32bb94f6",
        "colab": {
          "base_uri": "https://localhost:8080/",
          "height": 68
        }
      },
      "source": [
        "n = input()\n",
        "arr_b = list(map(int,input().split()))\n",
        "\n",
        "flag = \"APPROVED\"\n",
        "\n",
        "for elem in arr_b:\n",
        "  if elem % 2 == 0:\n",
        "    if (elem % 3 != 0) and (elem % 5 != 0):\n",
        "      flag = \"DENIED\"\n",
        "\n",
        "print(flag)"
      ],
      "execution_count": 0,
      "outputs": [
        {
          "output_type": "stream",
          "text": [
            "3\n",
            "28 27 24\n",
            "DENIED\n"
          ],
          "name": "stdout"
        }
      ]
    },
    {
      "cell_type": "code",
      "metadata": {
        "id": "yG2qA9o260mT",
        "colab_type": "code",
        "outputId": "b247f820-ff41-4409-8997-c252cf3eea41",
        "colab": {
          "base_uri": "https://localhost:8080/",
          "height": 187
        }
      },
      "source": [
        "n = input()\n",
        "arr_c = [input() for i in range(int(n))]\n",
        "\n",
        "dic = {}\n",
        "\n",
        "for elem in arr_c:\n",
        "  if elem in dic:\n",
        "    dic[elem] += 1\n",
        "  else:\n",
        "    dic[elem] = 1\n",
        "\n",
        "freq = max(dic.values())\n",
        "\n",
        "sorted_dic = sorted(dic.items(), key=lambda x: x[0])\n",
        "\n",
        "for tup in sorted_dic:\n",
        "  if tup[1] == freq:\n",
        "    print(tup[0])"
      ],
      "execution_count": 0,
      "outputs": [
        {
          "output_type": "stream",
          "text": [
            "7\n",
            "beat\n",
            "vet\n",
            "beet\n",
            "bed\n",
            "vet\n",
            "bet\n",
            "beet\n",
            "beet\n",
            "vet\n"
          ],
          "name": "stdout"
        }
      ]
    },
    {
      "cell_type": "code",
      "metadata": {
        "id": "HeL2lI5A9AHn",
        "colab_type": "code",
        "outputId": "7f853550-8e9d-498b-846b-54b84256cd50",
        "colab": {
          "base_uri": "https://localhost:8080/",
          "height": 34
        }
      },
      "source": [
        "dic\n",
        "score_sorted = sorted(score.items(), key=lambda x:x[0])"
      ],
      "execution_count": 0,
      "outputs": [
        {
          "output_type": "execute_result",
          "data": {
            "text/plain": [
              "{'a': 1, 'beat': 2, 'beet': 1, 'dfg': 1, 'dgb': 1, 'vet': 1}"
            ]
          },
          "metadata": {
            "tags": []
          },
          "execution_count": 11
        }
      ]
    },
    {
      "cell_type": "code",
      "metadata": {
        "id": "EaM7gdpn-60W",
        "colab_type": "code",
        "outputId": "8f5649a5-1cb3-4b09-cbeb-31df13c9f373",
        "colab": {
          "base_uri": "https://localhost:8080/",
          "height": 68
        }
      },
      "source": [
        "nk = list(map(int,input().split()))\n",
        "arr_d = list(map(int,input().split()))\n",
        "\n",
        "product = []\n",
        "j = 0\n",
        "\n",
        "for num in range(len(arr_d)-1):\n",
        "  for i in range(len(arr_d)-(num+1)):\n",
        "    product.append(arr_d[num] * arr_d[i+1+j])\n",
        "\n",
        "  j += 1\n",
        "\n",
        "product.sort()\n",
        "print(product[int(nk[1])-1])"
      ],
      "execution_count": 0,
      "outputs": [
        {
          "output_type": "stream",
          "text": [
            "4 3\n",
            "3 3 -4 -2\n",
            "-6\n"
          ],
          "name": "stdout"
        }
      ]
    },
    {
      "cell_type": "code",
      "metadata": {
        "id": "dgn4TYIC-DYV",
        "colab_type": "code",
        "outputId": "9f5f4662-bbad-40fb-eb94-39b04770d12f",
        "colab": {
          "base_uri": "https://localhost:8080/",
          "height": 68
        }
      },
      "source": [
        "import itertools\n",
        "\n",
        "nk = list(map(int,input().split()))\n",
        "arr_d = list(map(int,input().split()))\n",
        "\n",
        "product = []\n",
        "\n",
        "for v in itertools.combinations(arr_d, 2):\n",
        "  product.append(v[0] * v[1])\n",
        "\n",
        "product.sort()\n",
        "\n",
        "print(product[int(nk[1])-1])"
      ],
      "execution_count": 0,
      "outputs": [
        {
          "output_type": "stream",
          "text": [
            "10 40\n",
            "5 4 3 2 -1 0 0 0 0 0\n",
            "6\n"
          ],
          "name": "stdout"
        }
      ]
    },
    {
      "cell_type": "code",
      "metadata": {
        "id": "Y7idaE_SB6kB",
        "colab_type": "code",
        "outputId": "c473bd24-cf4c-4337-ab8c-601568c7fe75",
        "colab": {
          "base_uri": "https://localhost:8080/",
          "height": 34
        }
      },
      "source": [
        "arr_d = [3, 3, -4, -2]\n",
        "product = []\n",
        "j = 0\n",
        "\n",
        "for num in range(len(arr_d)-1):\n",
        "  for i in range(len(arr_d)-(num+1)):\n",
        "    product.append(arr_d[num] * arr_d[i+1+j])\n",
        "\n",
        "  j += 1\n",
        "\n",
        "product"
      ],
      "execution_count": 0,
      "outputs": [
        {
          "output_type": "execute_result",
          "data": {
            "text/plain": [
              "[9, -12, -6, -12, -6, 8]"
            ]
          },
          "metadata": {
            "tags": []
          },
          "execution_count": 24
        }
      ]
    },
    {
      "cell_type": "code",
      "metadata": {
        "id": "gYjFGTe7CDgK",
        "colab_type": "code",
        "colab": {}
      },
      "source": [
        "arr_d = [3, 3, -4, -2]\n",
        "product = []\n",
        "j = 0\n",
        "\n",
        "for num in range(len(arr_d)-1):\n",
        "  for i in range(len(arr_d)-(num+1)):\n",
        "    product.append(arr_d[num] * arr_d[i+1+j])\n",
        "\n",
        "  j += 1\n",
        "\n",
        "product"
      ],
      "execution_count": 0,
      "outputs": []
    },
    {
      "cell_type": "code",
      "metadata": {
        "id": "GNjAyQGzF9s2",
        "colab_type": "code",
        "colab": {}
      },
      "source": [
        "def recur(arr_d, product, i):\n",
        "  for num in range(len(arr_d)-1):\n",
        "    product.append(arr_d[num] * arr_d[num+1])\n",
        "\n",
        "  return recur(arr_d[i:])"
      ],
      "execution_count": 0,
      "outputs": []
    },
    {
      "cell_type": "code",
      "metadata": {
        "id": "tjC81HGxIyl7",
        "colab_type": "code",
        "colab": {}
      },
      "source": [
        "arr_d = [3, 3, -4, -2]\n",
        "product = []\n",
        "\n"
      ],
      "execution_count": 0,
      "outputs": []
    },
    {
      "cell_type": "markdown",
      "metadata": {
        "id": "iUxpme4pH2LE",
        "colab_type": "text"
      },
      "source": [
        "n!／{ r! (n－r)! } "
      ]
    },
    {
      "cell_type": "markdown",
      "metadata": {
        "id": "1qHv3-dUiPv4",
        "colab_type": "text"
      },
      "source": [
        "https://img.atcoder.jp/abc155/editorial.pdf"
      ]
    },
    {
      "cell_type": "code",
      "metadata": {
        "id": "bqOBeTkjiRPm",
        "colab_type": "code",
        "colab": {}
      },
      "source": [
        ""
      ],
      "execution_count": 0,
      "outputs": []
    }
  ]
}